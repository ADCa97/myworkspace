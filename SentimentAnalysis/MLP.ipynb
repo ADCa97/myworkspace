{
 "cells": [
  {
   "cell_type": "code",
   "execution_count": 1,
   "metadata": {},
   "outputs": [],
   "source": [
    "import pandas as pd \n",
    "import os\n",
    "from sklearn.utils import shuffle\n",
    "import re \n",
    "import numpy as np\n",
    "import tensorflow as tf\n",
    "from sklearn.model_selection import train_test_split\n",
    "from tensorflow.keras import regularizers"
   ]
  },
  {
   "cell_type": "markdown",
   "metadata": {},
   "source": [
    "限制显存大小"
   ]
  },
  {
   "cell_type": "code",
   "execution_count": 2,
   "metadata": {},
   "outputs": [
    {
     "name": "stdout",
     "output_type": "stream",
     "text": [
      "1 Physical GPUs, 1 Logical GPUs\n"
     ]
    }
   ],
   "source": [
    "gpus = tf.config.experimental.list_physical_devices('GPU')\n",
    "assert len(gpus) > 0\n",
    "\n",
    "try:\n",
    "    # Currently, memory growth needs to be the same across GPUs\n",
    "    tf.config.experimental.set_memory_growth(gpus[0], True)\n",
    "    logical_gpus = tf.config.experimental.list_logical_devices('GPU')\n",
    "    print(len(gpus), \"Physical GPUs,\", len(logical_gpus), \"Logical GPUs\")\n",
    "except :\n",
    "    # Memory growth must be set before GPUs have been initialized\n",
    "    print(e)"
   ]
  },
  {
   "cell_type": "markdown",
   "metadata": {},
   "source": [
    "载入train数据"
   ]
  },
  {
   "cell_type": "code",
   "execution_count": 3,
   "metadata": {},
   "outputs": [
    {
     "name": "stdout",
     "output_type": "stream",
     "text": [
      "25000 25000\n"
     ]
    }
   ],
   "source": [
    "text = []\n",
    "sentiment = []\n",
    "file_path = \"../data/aclImdb/train\"\n",
    "\n",
    "for file in os.listdir(os.path.join(file_path, 'neg')):\n",
    "    path = os.path.join(file_path, 'neg', file)\n",
    "    with open(path) as f:\n",
    "        text.append(f.readline())\n",
    "sentiment = [0 for _ in os.listdir(os.path.join(file_path, 'neg'))]\n",
    "\n",
    "for file in os.listdir(os.path.join(file_path, 'pos')):\n",
    "    path = os.path.join(file_path, 'pos', file)\n",
    "    with open(path) as f:\n",
    "        text.append(f.readline())\n",
    "pos_sentiment = [1 for _ in os.listdir(os.path.join(file_path, 'pos'))]\n",
    "\n",
    "sentiment.extend(pos_sentiment)\n",
    "print(len(text),len(sentiment))"
   ]
  },
  {
   "cell_type": "markdown",
   "metadata": {},
   "source": [
    "载入test数据"
   ]
  },
  {
   "cell_type": "code",
   "execution_count": 4,
   "metadata": {},
   "outputs": [
    {
     "name": "stdout",
     "output_type": "stream",
     "text": [
      "25000 25000\n"
     ]
    }
   ],
   "source": [
    "text_test = []\n",
    "sentiment_test = []\n",
    "file_path = \"../data/aclImdb/test\"\n",
    "for file in os.listdir(os.path.join(file_path, 'neg')):\n",
    "    path = os.path.join(file_path, 'neg', file)\n",
    "    with open(path) as f:\n",
    "        text_test.append(f.readline())\n",
    "sentiment_test = [0 for _ in os.listdir(os.path.join(file_path, 'neg'))]\n",
    "\n",
    "for file in os.listdir(os.path.join(file_path, 'pos')):\n",
    "    path = os.path.join(file_path, 'pos', file)\n",
    "    with open(path) as f:\n",
    "        text_test.append(f.readline())\n",
    "pos_sentiment_test = [1 for _ in os.listdir(os.path.join(file_path, 'pos'))]\n",
    "\n",
    "sentiment_test.extend(pos_sentiment_test)\n",
    "print(len(text_test), len(sentiment_test))"
   ]
  },
  {
   "cell_type": "markdown",
   "metadata": {},
   "source": [
    "合并train、test数据集"
   ]
  },
  {
   "cell_type": "code",
   "execution_count": 5,
   "metadata": {},
   "outputs": [
    {
     "name": "stdout",
     "output_type": "stream",
     "text": [
      "50000 50000\n"
     ]
    }
   ],
   "source": [
    "text.extend(text_test)\n",
    "sentiment.extend(sentiment_test)\n",
    "print(len(text), len(sentiment))"
   ]
  },
  {
   "cell_type": "code",
   "execution_count": 6,
   "metadata": {},
   "outputs": [
    {
     "name": "stdout",
     "output_type": "stream",
     "text": [
      "50000\n"
     ]
    }
   ],
   "source": [
    "pd.options.display.max_colwidth = 1000\n",
    "text, sentiment = shuffle(text, sentiment, random_state=2)\n",
    "df = pd.DataFrame(list(zip(text, sentiment)), columns=['text', 'sentiment'])\n",
    "print(len(df))"
   ]
  },
  {
   "cell_type": "markdown",
   "metadata": {},
   "source": [
    "预处理数据"
   ]
  },
  {
   "cell_type": "code",
   "execution_count": 7,
   "metadata": {},
   "outputs": [
    {
     "name": "stdout",
     "output_type": "stream",
     "text": [
      "50000 50000\n"
     ]
    }
   ],
   "source": [
    "def preprocess_text(sentence):\n",
    "    sentence = re.sub('(<)br\\s*\\/*(>)','',sentence) # Removing <br> as coming in reviews due to html pages\n",
    "    sentence = re.sub('([?.!])',r' \\1 ',sentence) # Putting space between word and punctuation\n",
    "    sentence = re.sub('[^a-zA-z!.?]+',' ',sentence) # Replacing everythong other that a-zA-z and some punctuation\n",
    "    sentence = re.sub('(\\.\\s+)+','. ',sentence)\n",
    "    sentence = re.sub('(\\s+[a-z]\\s+)',' ',sentence) # Replacing every single character in between sentence\n",
    "    sentence = sentence.lower() # lowering all words\n",
    "    return sentence\n",
    "\n",
    "processed_text = [preprocess_text(_) for _ in text]\n",
    "print(len(processed_text), len(sentiment))"
   ]
  },
  {
   "cell_type": "markdown",
   "metadata": {},
   "source": [
    "参数设置"
   ]
  },
  {
   "cell_type": "code",
   "execution_count": 8,
   "metadata": {},
   "outputs": [],
   "source": [
    "max_length = 120\n",
    "vocab_size = 60000"
   ]
  },
  {
   "cell_type": "markdown",
   "metadata": {},
   "source": [
    "序列化数据"
   ]
  },
  {
   "cell_type": "code",
   "execution_count": 9,
   "metadata": {},
   "outputs": [
    {
     "name": "stdout",
     "output_type": "stream",
     "text": [
      "(50000, 120)\n"
     ]
    }
   ],
   "source": [
    "tokenizer = tf.keras.preprocessing.text.Tokenizer(num_words=vocab_size)\n",
    "tokenizer.fit_on_texts(processed_text)\n",
    "\n",
    "processed_text_vector = tokenizer.texts_to_sequences(processed_text)\n",
    "padded_text_vector = tf.keras.preprocessing.sequence.pad_sequences(processed_text_vector,maxlen=max_length, \n",
    "                                                                   truncating='post', padding='post')\n",
    "print(padded_text_vector.shape)"
   ]
  },
  {
   "cell_type": "markdown",
   "metadata": {},
   "source": [
    "划分训练集与测试集"
   ]
  },
  {
   "cell_type": "code",
   "execution_count": 10,
   "metadata": {},
   "outputs": [
    {
     "name": "stdout",
     "output_type": "stream",
     "text": [
      "35000 15000 35000 15000\n"
     ]
    }
   ],
   "source": [
    "train_text, test_text, train_sentiment, test_sentiment = train_test_split(padded_text_vector, sentiment,\n",
    "                                                                          test_size = 0.3,\n",
    "                                                                          random_state=1)\n",
    "print(len(train_text), len(test_text), len(train_sentiment), len(test_sentiment))"
   ]
  },
  {
   "cell_type": "markdown",
   "metadata": {},
   "source": [
    "划分训练集与验证集"
   ]
  },
  {
   "cell_type": "code",
   "execution_count": 11,
   "metadata": {},
   "outputs": [
    {
     "name": "stdout",
     "output_type": "stream",
     "text": [
      "28000 7000 28000 7000\n"
     ]
    }
   ],
   "source": [
    "text_train, text_val, sentiment_train, sentiment_val = train_test_split(train_text,train_sentiment, test_size=0.2,\n",
    "                                                                       random_state=2)\n",
    "print(len(text_train), len(text_val), len(sentiment_train), len(sentiment_val))"
   ]
  },
  {
   "cell_type": "markdown",
   "metadata": {},
   "source": [
    "参数设置"
   ]
  },
  {
   "cell_type": "code",
   "execution_count": 12,
   "metadata": {},
   "outputs": [],
   "source": [
    "BATCH_SIZE = 128\n",
    "EMBEDDING_SIZE = 128\n",
    "EPOCHS = 64\n",
    "learning_rate = 0.0001\n",
    "kernel_l2 = 0.001\n",
    "recurrent_l2 = 0.000\n",
    "activity_l2 = 0.000"
   ]
  },
  {
   "cell_type": "markdown",
   "metadata": {},
   "source": [
    "构建LSTM模型"
   ]
  },
  {
   "cell_type": "code",
   "execution_count": 13,
   "metadata": {},
   "outputs": [
    {
     "name": "stdout",
     "output_type": "stream",
     "text": [
      "WARNING:tensorflow:From /home/gzc/.conda/envs/tf1.15/lib/python3.7/site-packages/tensorflow_core/python/keras/initializers.py:119: calling RandomUniform.__init__ (from tensorflow.python.ops.init_ops) with dtype is deprecated and will be removed in a future version.\n",
      "Instructions for updating:\n",
      "Call initializer instance with the dtype argument instead of passing it to the constructor\n",
      "WARNING:tensorflow:From /home/gzc/.conda/envs/tf1.15/lib/python3.7/site-packages/tensorflow_core/python/ops/resource_variable_ops.py:1630: calling BaseResourceVariable.__init__ (from tensorflow.python.ops.resource_variable_ops) with constraint is deprecated and will be removed in a future version.\n",
      "Instructions for updating:\n",
      "If using Keras pass *_constraint arguments to layers.\n",
      "Model: \"sequential\"\n",
      "_________________________________________________________________\n",
      "Layer (type)                 Output Shape              Param #   \n",
      "=================================================================\n",
      "embedding (Embedding)        (None, 120, 128)          7680000   \n",
      "_________________________________________________________________\n",
      "dense (Dense)                (None, 120, 64)           8256      \n",
      "_________________________________________________________________\n",
      "dropout (Dropout)            (None, 120, 64)           0         \n",
      "_________________________________________________________________\n",
      "dense_1 (Dense)              (None, 120, 32)           2080      \n",
      "_________________________________________________________________\n",
      "dropout_1 (Dropout)          (None, 120, 32)           0         \n",
      "_________________________________________________________________\n",
      "global_average_pooling1d (Gl (None, 32)                0         \n",
      "_________________________________________________________________\n",
      "dropout_2 (Dropout)          (None, 32)                0         \n",
      "_________________________________________________________________\n",
      "dense_2 (Dense)              (None, 1)                 33        \n",
      "=================================================================\n",
      "Total params: 7,690,369\n",
      "Trainable params: 7,690,369\n",
      "Non-trainable params: 0\n",
      "_________________________________________________________________\n"
     ]
    }
   ],
   "source": [
    "model = tf.keras.models.Sequential()\n",
    "model.add(tf.keras.layers.Embedding(input_dim=vocab_size, output_dim=EMBEDDING_SIZE, input_length=max_length))\n",
    "\n",
    "model.add(tf.keras.layers.Dense(64, activation='relu', kernel_regularizer=regularizers.l2(kernel_l2)))\n",
    "model.add(tf.keras.layers.Dropout(0.5))\n",
    "\n",
    "model.add(tf.keras.layers.Dense(32, activation='relu', kernel_regularizer=regularizers.l2(kernel_l2)))\n",
    "model.add(tf.keras.layers.Dropout(0.5))\n",
    "\n",
    "model.add(tf.keras.layers.GlobalAveragePooling1D())\n",
    "model.add(tf.keras.layers.Dropout(0.5))\n",
    "model.add(tf.keras.layers.Dense(1, activation='sigmoid', kernel_regularizer=regularizers.l2(kernel_l2)))\n",
    "model.summary()"
   ]
  },
  {
   "cell_type": "code",
   "execution_count": 14,
   "metadata": {},
   "outputs": [
    {
     "name": "stdout",
     "output_type": "stream",
     "text": [
      "WARNING:tensorflow:From /home/gzc/.conda/envs/tf1.15/lib/python3.7/site-packages/tensorflow_core/python/ops/nn_impl.py:183: where (from tensorflow.python.ops.array_ops) is deprecated and will be removed in a future version.\n",
      "Instructions for updating:\n",
      "Use tf.where in 2.0, which has the same broadcast rule as np.where\n"
     ]
    }
   ],
   "source": [
    "model.compile(optimizer=tf.keras.optimizers.Adam(learning_rate), loss='binary_crossentropy', metrics=['accuracy'])\n",
    "callback = tf.keras.callbacks.EarlyStopping(monitor='val_acc', patience=5, restore_best_weights=True)"
   ]
  },
  {
   "cell_type": "markdown",
   "metadata": {},
   "source": [
    "训练模型"
   ]
  },
  {
   "cell_type": "code",
   "execution_count": 15,
   "metadata": {},
   "outputs": [
    {
     "name": "stdout",
     "output_type": "stream",
     "text": [
      "Train on 28000 samples, validate on 7000 samples\n",
      "Epoch 1/64\n",
      "28000/28000 [==============================] - 2s 80us/sample - loss: 0.8047 - acc: 0.5120 - val_loss: 0.7871 - val_acc: 0.5660\n",
      "Epoch 2/64\n",
      "28000/28000 [==============================] - 2s 60us/sample - loss: 0.7732 - acc: 0.5395 - val_loss: 0.7601 - val_acc: 0.6797\n",
      "Epoch 3/64\n",
      "28000/28000 [==============================] - 2s 59us/sample - loss: 0.7499 - acc: 0.5649 - val_loss: 0.7400 - val_acc: 0.6743\n",
      "Epoch 4/64\n",
      "28000/28000 [==============================] - 2s 60us/sample - loss: 0.7320 - acc: 0.5900 - val_loss: 0.7236 - val_acc: 0.6914\n",
      "Epoch 5/64\n",
      "28000/28000 [==============================] - 2s 60us/sample - loss: 0.7161 - acc: 0.6154 - val_loss: 0.7063 - val_acc: 0.7179\n",
      "Epoch 6/64\n",
      "28000/28000 [==============================] - 2s 59us/sample - loss: 0.6944 - acc: 0.6526 - val_loss: 0.6774 - val_acc: 0.7417\n",
      "Epoch 7/64\n",
      "28000/28000 [==============================] - 2s 59us/sample - loss: 0.6583 - acc: 0.6862 - val_loss: 0.6286 - val_acc: 0.7726\n",
      "Epoch 8/64\n",
      "28000/28000 [==============================] - 2s 58us/sample - loss: 0.6108 - acc: 0.7229 - val_loss: 0.5755 - val_acc: 0.8051\n",
      "Epoch 9/64\n",
      "28000/28000 [==============================] - 2s 58us/sample - loss: 0.5662 - acc: 0.7575 - val_loss: 0.5308 - val_acc: 0.8227\n",
      "Epoch 10/64\n",
      "28000/28000 [==============================] - 2s 59us/sample - loss: 0.5290 - acc: 0.7873 - val_loss: 0.4981 - val_acc: 0.8367\n",
      "Epoch 11/64\n",
      "28000/28000 [==============================] - 2s 59us/sample - loss: 0.4989 - acc: 0.8090 - val_loss: 0.4759 - val_acc: 0.8443\n",
      "Epoch 12/64\n",
      "28000/28000 [==============================] - 2s 59us/sample - loss: 0.4752 - acc: 0.8244 - val_loss: 0.4590 - val_acc: 0.8479\n",
      "Epoch 13/64\n",
      "28000/28000 [==============================] - 2s 58us/sample - loss: 0.4595 - acc: 0.8313 - val_loss: 0.4489 - val_acc: 0.8550\n",
      "Epoch 14/64\n",
      "28000/28000 [==============================] - 2s 59us/sample - loss: 0.4422 - acc: 0.8441 - val_loss: 0.4396 - val_acc: 0.8550\n",
      "Epoch 15/64\n",
      "28000/28000 [==============================] - 2s 58us/sample - loss: 0.4319 - acc: 0.8495 - val_loss: 0.4326 - val_acc: 0.8567\n",
      "Epoch 16/64\n",
      "28000/28000 [==============================] - 2s 59us/sample - loss: 0.4218 - acc: 0.8563 - val_loss: 0.4272 - val_acc: 0.8607\n",
      "Epoch 17/64\n",
      "28000/28000 [==============================] - 2s 59us/sample - loss: 0.4080 - acc: 0.8637 - val_loss: 0.4218 - val_acc: 0.8606\n",
      "Epoch 18/64\n",
      "28000/28000 [==============================] - 2s 59us/sample - loss: 0.4030 - acc: 0.8628 - val_loss: 0.4182 - val_acc: 0.8623\n",
      "Epoch 19/64\n",
      "28000/28000 [==============================] - 2s 59us/sample - loss: 0.3970 - acc: 0.8681 - val_loss: 0.4148 - val_acc: 0.8626\n",
      "Epoch 20/64\n",
      "28000/28000 [==============================] - 2s 59us/sample - loss: 0.3878 - acc: 0.8743 - val_loss: 0.4122 - val_acc: 0.8646\n",
      "Epoch 21/64\n",
      "28000/28000 [==============================] - 2s 59us/sample - loss: 0.3824 - acc: 0.8764 - val_loss: 0.4092 - val_acc: 0.8650\n",
      "Epoch 22/64\n",
      "28000/28000 [==============================] - 2s 59us/sample - loss: 0.3728 - acc: 0.8822 - val_loss: 0.4069 - val_acc: 0.8657\n",
      "Epoch 23/64\n",
      "28000/28000 [==============================] - 2s 59us/sample - loss: 0.3680 - acc: 0.8861 - val_loss: 0.4050 - val_acc: 0.8659\n",
      "Epoch 24/64\n",
      "28000/28000 [==============================] - 2s 59us/sample - loss: 0.3657 - acc: 0.8867 - val_loss: 0.4042 - val_acc: 0.8647\n",
      "Epoch 25/64\n",
      "28000/28000 [==============================] - 2s 59us/sample - loss: 0.3586 - acc: 0.8877 - val_loss: 0.4028 - val_acc: 0.8671\n",
      "Epoch 26/64\n",
      "28000/28000 [==============================] - 2s 59us/sample - loss: 0.3558 - acc: 0.8897 - val_loss: 0.4018 - val_acc: 0.8670\n",
      "Epoch 27/64\n",
      "28000/28000 [==============================] - 2s 59us/sample - loss: 0.3504 - acc: 0.8944 - val_loss: 0.4009 - val_acc: 0.8677\n",
      "Epoch 28/64\n",
      "28000/28000 [==============================] - 2s 59us/sample - loss: 0.3449 - acc: 0.8953 - val_loss: 0.3999 - val_acc: 0.8684\n",
      "Epoch 29/64\n",
      "28000/28000 [==============================] - 2s 59us/sample - loss: 0.3415 - acc: 0.8998 - val_loss: 0.3991 - val_acc: 0.8680\n",
      "Epoch 30/64\n",
      "28000/28000 [==============================] - 2s 57us/sample - loss: 0.3367 - acc: 0.9013 - val_loss: 0.3987 - val_acc: 0.8681\n",
      "Epoch 31/64\n",
      "28000/28000 [==============================] - 2s 58us/sample - loss: 0.3282 - acc: 0.9054 - val_loss: 0.3986 - val_acc: 0.8691\n",
      "Epoch 32/64\n",
      "28000/28000 [==============================] - 2s 59us/sample - loss: 0.3302 - acc: 0.9039 - val_loss: 0.3981 - val_acc: 0.8700\n",
      "Epoch 33/64\n",
      "28000/28000 [==============================] - 2s 59us/sample - loss: 0.3283 - acc: 0.9045 - val_loss: 0.3985 - val_acc: 0.8686\n",
      "Epoch 34/64\n",
      "28000/28000 [==============================] - 2s 59us/sample - loss: 0.3244 - acc: 0.9066 - val_loss: 0.3977 - val_acc: 0.8684\n",
      "Epoch 35/64\n",
      "28000/28000 [==============================] - 2s 58us/sample - loss: 0.3198 - acc: 0.9089 - val_loss: 0.3977 - val_acc: 0.8681\n",
      "Epoch 36/64\n",
      "28000/28000 [==============================] - 2s 59us/sample - loss: 0.3196 - acc: 0.9073 - val_loss: 0.3977 - val_acc: 0.8674\n",
      "Epoch 37/64\n",
      "28000/28000 [==============================] - 2s 62us/sample - loss: 0.3145 - acc: 0.9106 - val_loss: 0.3978 - val_acc: 0.8673\n"
     ]
    },
    {
     "data": {
      "text/plain": [
       "<tensorflow.python.keras.callbacks.History at 0x7faf684fe910>"
      ]
     },
     "execution_count": 15,
     "metadata": {},
     "output_type": "execute_result"
    }
   ],
   "source": [
    "model.fit(x=text_train,y=sentiment_train, batch_size=BATCH_SIZE, epochs=EPOCHS, shuffle=True,\n",
    "          validation_data=[text_val,sentiment_val], callbacks=[callback])"
   ]
  },
  {
   "cell_type": "code",
   "execution_count": 16,
   "metadata": {},
   "outputs": [
    {
     "data": {
      "image/png": "[encoded data removed]",
      "text/plain": [
       "<Figure size 432x288 with 4 Axes>"
      ]
     },
     "metadata": {
      "needs_background": "light"
     },
     "output_type": "display_data"
    }
   ],
   "source": [
    "import matplotlib.pyplot as plt\n",
    "from pylab import *\n",
    "\n",
    "subplots_adjust(left=0.0,bottom=0.0,top=3,right=2)\n",
    "\n",
    "plt.subplot(2, 2, 1)\n",
    "plt.plot(model.history.history['loss'])\n",
    "plt.xlabel('epoch')\n",
    "plt.ylabel('loss')\n",
    "plt.title(\"train loss\")\n",
    "\n",
    "plt.subplot(2, 2, 2)\n",
    "plt.plot(model.history.history['acc'])\n",
    "plt.xlabel('epoch')\n",
    "plt.ylabel('acc')\n",
    "plt.title(\"train accuracy\")\n",
    "\n",
    "plt.subplot(2, 2, 3)\n",
    "plt.plot(model.history.history['val_loss'])\n",
    "plt.xlabel('epoch')\n",
    "plt.ylabel('loss')\n",
    "plt.title(\"validation loss\")\n",
    "\n",
    "plt.subplot(2, 2, 4)\n",
    "plt.plot(model.history.history['val_acc'])\n",
    "plt.xlabel('epoch')\n",
    "plt.ylabel('acc')\n",
    "plt.title(\"validation accuracy\")\n",
    "\n",
    "plt.show()"
   ]
  },
  {
   "cell_type": "markdown",
   "metadata": {},
   "source": [
    "在测试集上评估模型"
   ]
  },
  {
   "cell_type": "code",
   "execution_count": 17,
   "metadata": {},
   "outputs": [
    {
     "name": "stdout",
     "output_type": "stream",
     "text": [
      "15000/15000 [==============================] - 1s 64us/sample - loss: 0.4022 - acc: 0.8632\n"
     ]
    },
    {
     "data": {
      "text/plain": [
       "[0.4021705733935038, 0.8632]"
      ]
     },
     "execution_count": 17,
     "metadata": {},
     "output_type": "execute_result"
    }
   ],
   "source": [
    "model.evaluate(test_text, test_sentiment)"
   ]
  },
  {
   "cell_type": "markdown",
   "metadata": {},
   "source": [
    "模型预测"
   ]
  },
  {
   "cell_type": "code",
   "execution_count": 18,
   "metadata": {},
   "outputs": [
    {
     "name": "stdout",
     "output_type": "stream",
     "text": [
      "[[ True]]\n"
     ]
    }
   ],
   "source": [
    "x = '''I admit, the great majority of films released before say 1933 are just not for me. Of the dozen or so \"major\" silents I have viewed, one I loved (The Crowd), and two were very good (The Last Command and City Lights, that latter Chaplin circa 1931).<br /><br />So I was apprehensive about this one, and humor is often difficult to appreciate (uh, enjoy) decades later. I did like the lead actors, but thought little of the film.<br /><br />One intriguing sequence. Early on, the guys are supposed to get \"de-loused\" and for about three minutes, fully dressed, do some schtick. In the background, perhaps three dozen men pass by, all naked, white and black (WWI ?), and for most, their butts, part or full backside, are shown. Was this an early variation of beefcake courtesy of Howard Hughes?'''\n",
    "x = preprocess_text(x)\n",
    "vec = tokenizer.texts_to_sequences([x])\n",
    "pad_vec = tf.keras.preprocessing.sequence.pad_sequences(vec, maxlen=max_length, truncating='post', padding='post')\n",
    "result = model.predict(pad_vec)\n",
    "print(result > 0.5)"
   ]
  }
 ],
 "metadata": {
  "interpreter": {
   "hash": "cd19113c0ce267f95d331de12e62f671b4ae3be9ce70ab9c2c2ed8a73fec64bf"
  },
  "kernelspec": {
   "display_name": "Python 3.7.10 64-bit ('tf1.15': conda)",
   "name": "python3"
  },
  "language_info": {
   "codemirror_mode": {
    "name": "ipython",
    "version": 3
   },
   "file_extension": ".py",
   "mimetype": "text/x-python",
   "name": "python",
   "nbconvert_exporter": "python",
   "pygments_lexer": "ipython3",
   "version": "3.7.10"
  },
  "orig_nbformat": 4
 },
 "nbformat": 4,
 "nbformat_minor": 2
}