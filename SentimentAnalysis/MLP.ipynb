{
 "cells": [
  {
   "cell_type": "code",
   "execution_count": 1,
   "metadata": {},
   "outputs": [],
   "source": [
    "import pandas as pd \n",
    "import os\n",
    "from sklearn.utils import shuffle\n",
    "import re \n",
    "import numpy as np\n",
    "import tensorflow as tf\n",
    "from sklearn.model_selection import train_test_split\n",
    "from tensorflow.keras import regularizers"
   ]
  },
  {
   "cell_type": "markdown",
   "metadata": {},
   "source": [
    "限制显存大小"
   ]
  },
  {
   "cell_type": "code",
   "execution_count": 2,
   "metadata": {},
   "outputs": [
    {
     "name": "stdout",
     "output_type": "stream",
     "text": [
      "1 Physical GPUs, 1 Logical GPUs\n"
     ]
    }
   ],
   "source": [
    "gpus = tf.config.experimental.list_physical_devices('GPU')\n",
    "assert len(gpus) > 0\n",
    "\n",
    "try:\n",
    "    # Currently, memory growth needs to be the same across GPUs\n",
    "    tf.config.experimental.set_memory_growth(gpus[0], True)\n",
    "    logical_gpus = tf.config.experimental.list_logical_devices('GPU')\n",
    "    print(len(gpus), \"Physical GPUs,\", len(logical_gpus), \"Logical GPUs\")\n",
    "except :\n",
    "    # Memory growth must be set before GPUs have been initialized\n",
    "    print(e)"
   ]
  },
  {
   "cell_type": "markdown",
   "metadata": {},
   "source": [
    "载入数据集"
   ]
  },
  {
   "cell_type": "code",
   "execution_count": 3,
   "metadata": {},
   "outputs": [
    {
     "name": "stdout",
     "output_type": "stream",
     "text": [
      "50000 50000\n"
     ]
    }
   ],
   "source": [
    "text = []\n",
    "sentiment = []\n",
    "\n",
    "# 载入train\n",
    "file_path = \"../data/aclImdb/train\"\n",
    "for file in os.listdir(os.path.join(file_path, 'neg')):\n",
    "    path = os.path.join(file_path, 'neg', file)\n",
    "    with open(path) as f:\n",
    "        text.append(f.readline())\n",
    "sentiment = [0 for _ in os.listdir(os.path.join(file_path, 'neg'))]\n",
    "\n",
    "for file in os.listdir(os.path.join(file_path, 'pos')):\n",
    "    path = os.path.join(file_path, 'pos', file)\n",
    "    with open(path) as f:\n",
    "        text.append(f.readline())\n",
    "pos_sentiment = [1 for _ in os.listdir(os.path.join(file_path, 'pos'))]\n",
    "sentiment.extend(pos_sentiment)\n",
    "\n",
    "# 载入test\n",
    "text_test = []\n",
    "sentiment_test = []\n",
    "file_path = \"../data/aclImdb/test\"\n",
    "for file in os.listdir(os.path.join(file_path, 'neg')):\n",
    "    path = os.path.join(file_path, 'neg', file)\n",
    "    with open(path) as f:\n",
    "        text_test.append(f.readline())\n",
    "sentiment_test = [0 for _ in os.listdir(os.path.join(file_path, 'neg'))]\n",
    "\n",
    "for file in os.listdir(os.path.join(file_path, 'pos')):\n",
    "    path = os.path.join(file_path, 'pos', file)\n",
    "    with open(path) as f:\n",
    "        text_test.append(f.readline())\n",
    "pos_sentiment_test = [1 for _ in os.listdir(os.path.join(file_path, 'pos'))]\n",
    "sentiment_test.extend(pos_sentiment_test)\n",
    "\n",
    "# 合并train、test数据集\n",
    "text.extend(text_test)\n",
    "sentiment.extend(sentiment_test)\n",
    "print(len(text),len(sentiment))"
   ]
  },
  {
   "cell_type": "markdown",
   "metadata": {},
   "source": [
    "预处理数据"
   ]
  },
  {
   "cell_type": "code",
   "execution_count": 4,
   "metadata": {},
   "outputs": [
    {
     "name": "stdout",
     "output_type": "stream",
     "text": [
      "50000 50000\n"
     ]
    }
   ],
   "source": [
    "def preprocess_text(sentence):\n",
    "    sentence = re.sub('(<)br\\s*\\/*(>)','',sentence) # Removing <br> as coming in reviews due to html pages\n",
    "    sentence = re.sub('([?.!])',r' \\1 ',sentence) # Putting space between word and punctuation\n",
    "    sentence = re.sub('[^a-zA-z!.?]+',' ',sentence) # Replacing everythong other that a-zA-z and some punctuation\n",
    "    sentence = re.sub('(\\.\\s+)+','. ',sentence)\n",
    "    sentence = re.sub('(\\s+[a-z]\\s+)',' ',sentence) # Replacing every single character in between sentence\n",
    "    sentence = sentence.lower() # lowering all words\n",
    "    return sentence\n",
    "\n",
    "processed_text = [preprocess_text(_) for _ in text]\n",
    "print(len(processed_text), len(sentiment))"
   ]
  },
  {
   "cell_type": "markdown",
   "metadata": {},
   "source": [
    "参数设置"
   ]
  },
  {
   "cell_type": "code",
   "execution_count": 5,
   "metadata": {},
   "outputs": [],
   "source": [
    "max_length = 400\n",
    "vocab_size = 60000\n",
    "BATCH_SIZE = 128\n",
    "EMBEDDING_SIZE = 128\n",
    "EPOCHS = 64\n",
    "learning_rate = 0.001\n",
    "kernel_l2 = 0.002\n",
    "recurrent_l2 = 0.000\n",
    "activity_l2 = 0.000"
   ]
  },
  {
   "cell_type": "markdown",
   "metadata": {},
   "source": [
    "序列化数据"
   ]
  },
  {
   "cell_type": "code",
   "execution_count": 6,
   "metadata": {},
   "outputs": [
    {
     "name": "stdout",
     "output_type": "stream",
     "text": [
      "(50000, 400)\n"
     ]
    }
   ],
   "source": [
    "tokenizer = tf.keras.preprocessing.text.Tokenizer(num_words=vocab_size)\n",
    "tokenizer.fit_on_texts(processed_text)\n",
    "\n",
    "processed_text_vector = tokenizer.texts_to_sequences(processed_text)\n",
    "padded_text_vector = tf.keras.preprocessing.sequence.pad_sequences(processed_text_vector,maxlen=max_length, \n",
    "                                                                   truncating='post', padding='post')\n",
    "print(padded_text_vector.shape)"
   ]
  },
  {
   "cell_type": "markdown",
   "metadata": {},
   "source": [
    "划分训练集与测试集"
   ]
  },
  {
   "cell_type": "code",
   "execution_count": 7,
   "metadata": {},
   "outputs": [
    {
     "name": "stdout",
     "output_type": "stream",
     "text": [
      "25000 25000 25000 25000\n"
     ]
    }
   ],
   "source": [
    "# 训练集，前25000条数据\n",
    "train_text = padded_text_vector[:25000]\n",
    "train_sentiment = sentiment[:25000]\n",
    "train_text, train_sentiment = shuffle(train_text, np.array(train_sentiment), random_state=2)\n",
    "# 测试集，后25000条数据\n",
    "test_text = padded_text_vector[25000:]\n",
    "test_sentiment = sentiment[25000:]\n",
    "test_text, test_sentiment = shuffle(test_text, np.array(test_sentiment), random_state=3)\n",
    "\n",
    "print(len(train_text), len(test_text), len(train_sentiment), len(test_sentiment))"
   ]
  },
  {
   "cell_type": "markdown",
   "metadata": {},
   "source": [
    "划分训练集与验证集"
   ]
  },
  {
   "cell_type": "code",
   "execution_count": 8,
   "metadata": {},
   "outputs": [
    {
     "name": "stdout",
     "output_type": "stream",
     "text": [
      "20000 5000 20000 5000\n"
     ]
    }
   ],
   "source": [
    "text_train, text_val, sentiment_train, sentiment_val = train_test_split(train_text,train_sentiment, test_size=0.2,\n",
    "                                                                       random_state=2)\n",
    "print(len(text_train), len(text_val), len(sentiment_train), len(sentiment_val))"
   ]
  },
  {
   "cell_type": "markdown",
   "metadata": {},
   "source": [
    "构建MLP模型"
   ]
  },
  {
   "cell_type": "code",
   "execution_count": 9,
   "metadata": {},
   "outputs": [
    {
     "name": "stdout",
     "output_type": "stream",
     "text": [
      "WARNING:tensorflow:From /home/gzc/.conda/envs/tf1.15/lib/python3.7/site-packages/tensorflow_core/python/keras/initializers.py:119: calling RandomUniform.__init__ (from tensorflow.python.ops.init_ops) with dtype is deprecated and will be removed in a future version.\n",
      "Instructions for updating:\n",
      "Call initializer instance with the dtype argument instead of passing it to the constructor\n",
      "WARNING:tensorflow:From /home/gzc/.conda/envs/tf1.15/lib/python3.7/site-packages/tensorflow_core/python/ops/resource_variable_ops.py:1630: calling BaseResourceVariable.__init__ (from tensorflow.python.ops.resource_variable_ops) with constraint is deprecated and will be removed in a future version.\n",
      "Instructions for updating:\n",
      "If using Keras pass *_constraint arguments to layers.\n",
      "Model: \"sequential\"\n",
      "_________________________________________________________________\n",
      "Layer (type)                 Output Shape              Param #   \n",
      "=================================================================\n",
      "embedding (Embedding)        (None, 400, 128)          7680000   \n",
      "_________________________________________________________________\n",
      "dense (Dense)                (None, 400, 64)           8256      \n",
      "_________________________________________________________________\n",
      "dropout (Dropout)            (None, 400, 64)           0         \n",
      "_________________________________________________________________\n",
      "dense_1 (Dense)              (None, 400, 32)           2080      \n",
      "_________________________________________________________________\n",
      "dropout_1 (Dropout)          (None, 400, 32)           0         \n",
      "_________________________________________________________________\n",
      "global_average_pooling1d (Gl (None, 32)                0         \n",
      "_________________________________________________________________\n",
      "dropout_2 (Dropout)          (None, 32)                0         \n",
      "_________________________________________________________________\n",
      "dense_2 (Dense)              (None, 1)                 33        \n",
      "=================================================================\n",
      "Total params: 7,690,369\n",
      "Trainable params: 7,690,369\n",
      "Non-trainable params: 0\n",
      "_________________________________________________________________\n",
      "WARNING:tensorflow:From /home/gzc/.conda/envs/tf1.15/lib/python3.7/site-packages/tensorflow_core/python/ops/nn_impl.py:183: where (from tensorflow.python.ops.array_ops) is deprecated and will be removed in a future version.\n",
      "Instructions for updating:\n",
      "Use tf.where in 2.0, which has the same broadcast rule as np.where\n"
     ]
    }
   ],
   "source": [
    "model = tf.keras.models.Sequential()\n",
    "model.add(tf.keras.layers.Embedding(input_dim=vocab_size, output_dim=EMBEDDING_SIZE, input_length=max_length))\n",
    "\n",
    "model.add(tf.keras.layers.Dense(64, activation='relu', kernel_regularizer=regularizers.l2(kernel_l2)))\n",
    "model.add(tf.keras.layers.Dropout(0.5))\n",
    "\n",
    "model.add(tf.keras.layers.Dense(32, activation='relu', kernel_regularizer=regularizers.l2(kernel_l2)))\n",
    "model.add(tf.keras.layers.Dropout(0.5))\n",
    "\n",
    "model.add(tf.keras.layers.GlobalAveragePooling1D())\n",
    "model.add(tf.keras.layers.Dropout(0.5))\n",
    "model.add(tf.keras.layers.Dense(1, activation='sigmoid', kernel_regularizer=regularizers.l2(kernel_l2)))\n",
    "model.summary()\n",
    "\n",
    "model.compile(optimizer=tf.keras.optimizers.Adam(learning_rate), loss='binary_crossentropy', metrics=['accuracy'])\n",
    "callback = tf.keras.callbacks.EarlyStopping(monitor='val_acc', patience=32, restore_best_weights=True)"
   ]
  },
  {
   "cell_type": "markdown",
   "metadata": {},
   "source": [
    "训练模型"
   ]
  },
  {
   "cell_type": "code",
   "execution_count": 10,
   "metadata": {},
   "outputs": [
    {
     "name": "stdout",
     "output_type": "stream",
     "text": [
      "Train on 20000 samples, validate on 5000 samples\n",
      "Epoch 1/64\n",
      "20000/20000 [==============================] - 3s 129us/sample - loss: 0.7866 - acc: 0.5193 - val_loss: 0.7109 - val_acc: 0.5068\n",
      "Epoch 2/64\n",
      "20000/20000 [==============================] - 2s 98us/sample - loss: 0.6995 - acc: 0.5325 - val_loss: 0.6947 - val_acc: 0.4952\n",
      "Epoch 3/64\n",
      "20000/20000 [==============================] - 2s 98us/sample - loss: 0.6940 - acc: 0.5339 - val_loss: 0.6937 - val_acc: 0.4938\n",
      "Epoch 4/64\n",
      "20000/20000 [==============================] - 2s 99us/sample - loss: 0.6929 - acc: 0.5454 - val_loss: 0.6918 - val_acc: 0.5690\n",
      "Epoch 5/64\n",
      "20000/20000 [==============================] - 2s 96us/sample - loss: 0.6692 - acc: 0.6284 - val_loss: 0.5861 - val_acc: 0.8120\n",
      "Epoch 6/64\n",
      "20000/20000 [==============================] - 2s 98us/sample - loss: 0.5370 - acc: 0.7993 - val_loss: 0.4562 - val_acc: 0.8726\n",
      "Epoch 7/64\n",
      "20000/20000 [==============================] - 2s 98us/sample - loss: 0.4607 - acc: 0.8514 - val_loss: 0.4230 - val_acc: 0.8828\n",
      "Epoch 8/64\n",
      "20000/20000 [==============================] - 2s 98us/sample - loss: 0.4300 - acc: 0.8684 - val_loss: 0.4049 - val_acc: 0.8884\n",
      "Epoch 9/64\n",
      "20000/20000 [==============================] - 2s 98us/sample - loss: 0.4015 - acc: 0.8795 - val_loss: 0.3901 - val_acc: 0.8942\n",
      "Epoch 10/64\n",
      "20000/20000 [==============================] - 2s 101us/sample - loss: 0.3783 - acc: 0.8936 - val_loss: 0.3821 - val_acc: 0.8948\n",
      "Epoch 11/64\n",
      "20000/20000 [==============================] - 2s 98us/sample - loss: 0.3684 - acc: 0.8987 - val_loss: 0.3779 - val_acc: 0.8974\n",
      "Epoch 12/64\n",
      "20000/20000 [==============================] - 2s 97us/sample - loss: 0.3578 - acc: 0.9041 - val_loss: 0.3744 - val_acc: 0.8962\n",
      "Epoch 13/64\n",
      "20000/20000 [==============================] - 2s 98us/sample - loss: 0.3530 - acc: 0.9072 - val_loss: 0.3741 - val_acc: 0.8932\n",
      "Epoch 14/64\n",
      "20000/20000 [==============================] - 2s 95us/sample - loss: 0.3427 - acc: 0.9103 - val_loss: 0.3721 - val_acc: 0.8922\n",
      "Epoch 15/64\n",
      "20000/20000 [==============================] - 2s 95us/sample - loss: 0.3308 - acc: 0.9191 - val_loss: 0.3682 - val_acc: 0.8962\n",
      "Epoch 16/64\n",
      "20000/20000 [==============================] - 2s 97us/sample - loss: 0.3260 - acc: 0.9205 - val_loss: 0.3695 - val_acc: 0.8934\n",
      "Epoch 17/64\n",
      "20000/20000 [==============================] - 2s 97us/sample - loss: 0.3195 - acc: 0.9237 - val_loss: 0.3668 - val_acc: 0.8986\n",
      "Epoch 18/64\n",
      "20000/20000 [==============================] - 2s 96us/sample - loss: 0.3155 - acc: 0.9247 - val_loss: 0.3713 - val_acc: 0.8922\n",
      "Epoch 19/64\n",
      "20000/20000 [==============================] - 2s 98us/sample - loss: 0.3130 - acc: 0.9260 - val_loss: 0.3751 - val_acc: 0.8898\n",
      "Epoch 20/64\n",
      "20000/20000 [==============================] - 2s 98us/sample - loss: 0.3075 - acc: 0.9291 - val_loss: 0.3678 - val_acc: 0.8960\n",
      "Epoch 21/64\n",
      "20000/20000 [==============================] - 2s 95us/sample - loss: 0.3024 - acc: 0.9309 - val_loss: 0.3682 - val_acc: 0.8958\n",
      "Epoch 22/64\n",
      "20000/20000 [==============================] - 2s 98us/sample - loss: 0.3039 - acc: 0.9306 - val_loss: 0.3704 - val_acc: 0.8952\n",
      "Epoch 23/64\n",
      "20000/20000 [==============================] - 2s 97us/sample - loss: 0.2970 - acc: 0.9328 - val_loss: 0.3679 - val_acc: 0.8952\n",
      "Epoch 24/64\n",
      "20000/20000 [==============================] - 2s 97us/sample - loss: 0.2932 - acc: 0.9353 - val_loss: 0.3695 - val_acc: 0.8962\n",
      "Epoch 25/64\n",
      "20000/20000 [==============================] - 2s 98us/sample - loss: 0.2887 - acc: 0.9369 - val_loss: 0.3710 - val_acc: 0.8958\n",
      "Epoch 26/64\n",
      "20000/20000 [==============================] - 2s 98us/sample - loss: 0.2910 - acc: 0.9362 - val_loss: 0.3704 - val_acc: 0.8924\n",
      "Epoch 27/64\n",
      "20000/20000 [==============================] - 2s 98us/sample - loss: 0.2844 - acc: 0.9386 - val_loss: 0.3716 - val_acc: 0.8944\n",
      "Epoch 28/64\n",
      "20000/20000 [==============================] - 2s 97us/sample - loss: 0.2854 - acc: 0.9401 - val_loss: 0.3725 - val_acc: 0.8948\n",
      "Epoch 29/64\n",
      "20000/20000 [==============================] - 2s 99us/sample - loss: 0.2792 - acc: 0.9424 - val_loss: 0.3729 - val_acc: 0.8964\n",
      "Epoch 30/64\n",
      "20000/20000 [==============================] - 2s 98us/sample - loss: 0.2744 - acc: 0.9457 - val_loss: 0.3737 - val_acc: 0.8942\n",
      "Epoch 31/64\n",
      "20000/20000 [==============================] - 2s 96us/sample - loss: 0.2744 - acc: 0.9452 - val_loss: 0.3751 - val_acc: 0.8938\n",
      "Epoch 32/64\n",
      "20000/20000 [==============================] - 2s 98us/sample - loss: 0.2733 - acc: 0.9455 - val_loss: 0.3761 - val_acc: 0.8926\n",
      "Epoch 33/64\n",
      "20000/20000 [==============================] - 2s 99us/sample - loss: 0.2707 - acc: 0.9483 - val_loss: 0.3744 - val_acc: 0.8930\n",
      "Epoch 34/64\n",
      "20000/20000 [==============================] - 2s 96us/sample - loss: 0.2713 - acc: 0.9462 - val_loss: 0.3792 - val_acc: 0.8932\n",
      "Epoch 35/64\n",
      "20000/20000 [==============================] - 2s 96us/sample - loss: 0.2703 - acc: 0.9472 - val_loss: 0.3741 - val_acc: 0.8932\n",
      "Epoch 36/64\n",
      "20000/20000 [==============================] - 2s 97us/sample - loss: 0.2687 - acc: 0.9470 - val_loss: 0.3773 - val_acc: 0.8948\n",
      "Epoch 37/64\n",
      "20000/20000 [==============================] - 2s 98us/sample - loss: 0.2665 - acc: 0.9477 - val_loss: 0.3779 - val_acc: 0.8936\n",
      "Epoch 38/64\n",
      "20000/20000 [==============================] - 2s 94us/sample - loss: 0.2654 - acc: 0.9491 - val_loss: 0.3784 - val_acc: 0.8930\n",
      "Epoch 39/64\n",
      "20000/20000 [==============================] - 2s 97us/sample - loss: 0.2618 - acc: 0.9523 - val_loss: 0.3791 - val_acc: 0.8918\n",
      "Epoch 40/64\n",
      "20000/20000 [==============================] - 2s 98us/sample - loss: 0.2610 - acc: 0.9504 - val_loss: 0.3775 - val_acc: 0.8954\n",
      "Epoch 41/64\n",
      "20000/20000 [==============================] - 2s 95us/sample - loss: 0.2562 - acc: 0.9535 - val_loss: 0.3817 - val_acc: 0.8924\n",
      "Epoch 42/64\n",
      "20000/20000 [==============================] - 2s 97us/sample - loss: 0.2595 - acc: 0.9506 - val_loss: 0.3858 - val_acc: 0.8896\n",
      "Epoch 43/64\n",
      "20000/20000 [==============================] - 2s 98us/sample - loss: 0.2535 - acc: 0.9531 - val_loss: 0.3804 - val_acc: 0.8938\n",
      "Epoch 44/64\n",
      "20000/20000 [==============================] - 2s 98us/sample - loss: 0.2510 - acc: 0.9555 - val_loss: 0.3814 - val_acc: 0.8934\n",
      "Epoch 45/64\n",
      "20000/20000 [==============================] - 2s 99us/sample - loss: 0.2541 - acc: 0.9528 - val_loss: 0.3813 - val_acc: 0.8924\n",
      "Epoch 46/64\n",
      "20000/20000 [==============================] - 2s 97us/sample - loss: 0.2506 - acc: 0.9548 - val_loss: 0.3804 - val_acc: 0.8940\n",
      "Epoch 47/64\n",
      "20000/20000 [==============================] - 2s 99us/sample - loss: 0.2475 - acc: 0.9560 - val_loss: 0.3853 - val_acc: 0.8904\n",
      "Epoch 48/64\n",
      "20000/20000 [==============================] - 2s 99us/sample - loss: 0.2466 - acc: 0.9564 - val_loss: 0.3841 - val_acc: 0.8924\n",
      "Epoch 49/64\n",
      "20000/20000 [==============================] - 2s 101us/sample - loss: 0.2477 - acc: 0.9549 - val_loss: 0.3854 - val_acc: 0.8910\n"
     ]
    },
    {
     "data": {
      "text/plain": [
       "<tensorflow.python.keras.callbacks.History at 0x7f933c2176d0>"
      ]
     },
     "execution_count": 10,
     "metadata": {},
     "output_type": "execute_result"
    }
   ],
   "source": [
    "model.fit(x=text_train,y=sentiment_train, batch_size=BATCH_SIZE, epochs=EPOCHS, shuffle=True,\n",
    "          validation_data=[text_val,sentiment_val], callbacks=[callback])\n",
    "\n",
    "#model.fit(x=text_train,y=sentiment_train, batch_size=BATCH_SIZE, epochs=EPOCHS, shuffle=True,\n",
    "#          validation_data=[text_val,sentiment_val])"
   ]
  },
  {
   "cell_type": "markdown",
   "metadata": {},
   "source": [
    "绘制模型训练结果"
   ]
  },
  {
   "cell_type": "code",
   "execution_count": 11,
   "metadata": {},
   "outputs": [
    {
     "data": {
      "image/png": "[encoded data removed]",
      "text/plain": [
       "<Figure size 432x288 with 4 Axes>"
      ]
     },
     "metadata": {
      "needs_background": "light"
     },
     "output_type": "display_data"
    }
   ],
   "source": [
    "import matplotlib.pyplot as plt\n",
    "from pylab import *\n",
    "\n",
    "subplots_adjust(left=0.0,bottom=0.0,top=3,right=2)\n",
    "\n",
    "plt.subplot(2, 2, 1)\n",
    "plt.plot(model.history.history['loss'])\n",
    "plt.xlabel('epoch')\n",
    "plt.ylabel('loss')\n",
    "plt.title(\"train loss\")\n",
    "\n",
    "plt.subplot(2, 2, 2)\n",
    "plt.plot(model.history.history['acc'])\n",
    "plt.xlabel('epoch')\n",
    "plt.ylabel('acc')\n",
    "plt.title(\"train accuracy\")\n",
    "\n",
    "plt.subplot(2, 2, 3)\n",
    "plt.plot(model.history.history['val_loss'])\n",
    "plt.xlabel('epoch')\n",
    "plt.ylabel('loss')\n",
    "plt.title(\"validation loss\")\n",
    "\n",
    "plt.subplot(2, 2, 4)\n",
    "plt.plot(model.history.history['val_acc'])\n",
    "plt.xlabel('epoch')\n",
    "plt.ylabel('acc')\n",
    "plt.title(\"validation accuracy\")\n",
    "\n",
    "plt.show()"
   ]
  },
  {
   "cell_type": "markdown",
   "metadata": {},
   "source": [
    "在测试集上评估模型"
   ]
  },
  {
   "cell_type": "code",
   "execution_count": 12,
   "metadata": {},
   "outputs": [
    {
     "name": "stdout",
     "output_type": "stream",
     "text": [
      "25000/25000 [==============================] - 2s 72us/sample - loss: 0.4113 - acc: 0.8793\n"
     ]
    },
    {
     "data": {
      "text/plain": [
       "[0.41125937922477723, 0.87928]"
      ]
     },
     "execution_count": 12,
     "metadata": {},
     "output_type": "execute_result"
    }
   ],
   "source": [
    "model.evaluate(test_text, test_sentiment)"
   ]
  },
  {
   "cell_type": "markdown",
   "metadata": {},
   "source": [
    "绘制模型图"
   ]
  },
  {
   "cell_type": "code",
   "execution_count": 13,
   "metadata": {},
   "outputs": [
    {
     "data": {
      "image/png": "[encoded data removed]",
      "text/plain": [
       "<IPython.core.display.Image object>"
      ]
     },
     "execution_count": 13,
     "metadata": {},
     "output_type": "execute_result"
    }
   ],
   "source": [
    "from tensorflow.keras.utils import plot_model\n",
    "plot_model(model, to_file=\"MLP.png\")"
   ]
  },
  {
   "cell_type": "markdown",
   "metadata": {},
   "source": [
    "模型预测"
   ]
  },
  {
   "cell_type": "code",
   "execution_count": 14,
   "metadata": {},
   "outputs": [
    {
     "name": "stdout",
     "output_type": "stream",
     "text": [
      "[[ True]]\n"
     ]
    }
   ],
   "source": [
    "x = '''I admit, the great majority of films released before say 1933 are just not for me. Of the dozen or so \"major\" silents I have viewed, one I loved (The Crowd), and two were very good (The Last Command and City Lights, that latter Chaplin circa 1931).<br /><br />So I was apprehensive about this one, and humor is often difficult to appreciate (uh, enjoy) decades later. I did like the lead actors, but thought little of the film.<br /><br />One intriguing sequence. Early on, the guys are supposed to get \"de-loused\" and for about three minutes, fully dressed, do some schtick. In the background, perhaps three dozen men pass by, all naked, white and black (WWI ?), and for most, their butts, part or full backside, are shown. Was this an early variation of beefcake courtesy of Howard Hughes?'''\n",
    "x = preprocess_text(x)\n",
    "vec = tokenizer.texts_to_sequences([x])\n",
    "pad_vec = tf.keras.preprocessing.sequence.pad_sequences(vec, maxlen=max_length, truncating='post', padding='post')\n",
    "result = model.predict(pad_vec)\n",
    "print(result > 0.5)"
   ]
  }
 ],
 "metadata": {
  "interpreter": {
   "hash": "cd19113c0ce267f95d331de12e62f671b4ae3be9ce70ab9c2c2ed8a73fec64bf"
  },
  "kernelspec": {
   "display_name": "Python 3.7.7 64-bit ('tf1.15': conda)",
   "name": "python3"
  },
  "language_info": {
   "codemirror_mode": {
    "name": "ipython",
    "version": 3
   },
   "file_extension": ".py",
   "mimetype": "text/x-python",
   "name": "python",
   "nbconvert_exporter": "python",
   "pygments_lexer": "ipython3",
   "version": "3.7.7"
  },
  "orig_nbformat": 4
 },
 "nbformat": 4,
 "nbformat_minor": 2
}