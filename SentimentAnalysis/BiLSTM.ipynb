{
 "cells": [
  {
   "cell_type": "code",
   "execution_count": 1,
   "metadata": {},
   "outputs": [],
   "source": [
    "import pandas as pd \n",
    "import os\n",
    "from sklearn.utils import shuffle\n",
    "import re \n",
    "import numpy as np\n",
    "import tensorflow as tf\n",
    "from sklearn.model_selection import train_test_split\n",
    "from tensorflow.keras import regularizers"
   ]
  },
  {
   "cell_type": "markdown",
   "metadata": {},
   "source": [
    "限制显存大小"
   ]
  },
  {
   "cell_type": "code",
   "execution_count": 2,
   "metadata": {},
   "outputs": [
    {
     "name": "stdout",
     "output_type": "stream",
     "text": [
      "1 Physical GPUs, 1 Logical GPUs\n"
     ]
    }
   ],
   "source": [
    "gpus = tf.config.experimental.list_physical_devices('GPU')\n",
    "assert len(gpus) > 0\n",
    "\n",
    "try:\n",
    "    # Currently, memory growth needs to be the same across GPUs\n",
    "    tf.config.experimental.set_memory_growth(gpus[0], True)\n",
    "    logical_gpus = tf.config.experimental.list_logical_devices('GPU')\n",
    "    print(len(gpus), \"Physical GPUs,\", len(logical_gpus), \"Logical GPUs\")\n",
    "except :\n",
    "    # Memory growth must be set before GPUs have been initialized\n",
    "    print(e)"
   ]
  },
  {
   "cell_type": "markdown",
   "metadata": {},
   "source": [
    "载入train数据"
   ]
  },
  {
   "cell_type": "code",
   "execution_count": 3,
   "metadata": {},
   "outputs": [
    {
     "name": "stdout",
     "output_type": "stream",
     "text": [
      "25000 25000\n"
     ]
    }
   ],
   "source": [
    "text = []\n",
    "sentiment = []\n",
    "file_path = \"../data/aclImdb/train\"\n",
    "\n",
    "for file in os.listdir(os.path.join(file_path, 'neg')):\n",
    "    path = os.path.join(file_path, 'neg', file)\n",
    "    with open(path) as f:\n",
    "        text.append(f.readline())\n",
    "sentiment = [0 for _ in os.listdir(os.path.join(file_path, 'neg'))]\n",
    "\n",
    "for file in os.listdir(os.path.join(file_path, 'pos')):\n",
    "    path = os.path.join(file_path, 'pos', file)\n",
    "    with open(path) as f:\n",
    "        text.append(f.readline())\n",
    "pos_sentiment = [1 for _ in os.listdir(os.path.join(file_path, 'pos'))]\n",
    "\n",
    "sentiment.extend(pos_sentiment)\n",
    "print(len(text),len(sentiment))"
   ]
  },
  {
   "cell_type": "markdown",
   "metadata": {},
   "source": [
    "载入test数据"
   ]
  },
  {
   "cell_type": "code",
   "execution_count": 4,
   "metadata": {},
   "outputs": [
    {
     "name": "stdout",
     "output_type": "stream",
     "text": [
      "25000 25000\n"
     ]
    }
   ],
   "source": [
    "text_test = []\n",
    "sentiment_test = []\n",
    "file_path = \"../data/aclImdb/test\"\n",
    "for file in os.listdir(os.path.join(file_path, 'neg')):\n",
    "    path = os.path.join(file_path, 'neg', file)\n",
    "    with open(path) as f:\n",
    "        text_test.append(f.readline())\n",
    "sentiment_test = [0 for _ in os.listdir(os.path.join(file_path, 'neg'))]\n",
    "\n",
    "for file in os.listdir(os.path.join(file_path, 'pos')):\n",
    "    path = os.path.join(file_path, 'pos', file)\n",
    "    with open(path) as f:\n",
    "        text_test.append(f.readline())\n",
    "pos_sentiment_test = [1 for _ in os.listdir(os.path.join(file_path, 'pos'))]\n",
    "\n",
    "sentiment_test.extend(pos_sentiment_test)\n",
    "print(len(text_test), len(sentiment_test))"
   ]
  },
  {
   "cell_type": "markdown",
   "metadata": {},
   "source": [
    "合并train、test数据集"
   ]
  },
  {
   "cell_type": "code",
   "execution_count": 5,
   "metadata": {},
   "outputs": [
    {
     "name": "stdout",
     "output_type": "stream",
     "text": [
      "50000 50000\n"
     ]
    }
   ],
   "source": [
    "text.extend(text_test)\n",
    "sentiment.extend(sentiment_test)\n",
    "print(len(text), len(sentiment))"
   ]
  },
  {
   "cell_type": "code",
   "execution_count": 6,
   "metadata": {},
   "outputs": [
    {
     "name": "stdout",
     "output_type": "stream",
     "text": [
      "50000\n"
     ]
    }
   ],
   "source": [
    "pd.options.display.max_colwidth = 1000\n",
    "text, sentiment = shuffle(text, sentiment, random_state=2)\n",
    "df = pd.DataFrame(list(zip(text, sentiment)), columns=['text', 'sentiment'])\n",
    "print(len(df))"
   ]
  },
  {
   "cell_type": "markdown",
   "metadata": {},
   "source": [
    "预处理数据"
   ]
  },
  {
   "cell_type": "code",
   "execution_count": 7,
   "metadata": {},
   "outputs": [
    {
     "name": "stdout",
     "output_type": "stream",
     "text": [
      "50000 50000\n"
     ]
    }
   ],
   "source": [
    "def preprocess_text(sentence):\n",
    "    sentence = re.sub('(<)br\\s*\\/*(>)','',sentence) # Removing <br> as coming in reviews due to html pages\n",
    "    sentence = re.sub('([?.!])',r' \\1 ',sentence) # Putting space between word and punctuation\n",
    "    sentence = re.sub('[^a-zA-z!.?]+',' ',sentence) # Replacing everythong other that a-zA-z and some punctuation\n",
    "    sentence = re.sub('(\\.\\s+)+','. ',sentence)\n",
    "    sentence = re.sub('(\\s+[a-z]\\s+)',' ',sentence) # Replacing every single character in between sentence\n",
    "    sentence = sentence.lower() # lowering all words\n",
    "    return sentence\n",
    "\n",
    "processed_text = [preprocess_text(_) for _ in text]\n",
    "print(len(processed_text), len(sentiment))"
   ]
  },
  {
   "cell_type": "markdown",
   "metadata": {},
   "source": [
    "参数设置"
   ]
  },
  {
   "cell_type": "code",
   "execution_count": 8,
   "metadata": {},
   "outputs": [],
   "source": [
    "max_length = 120\n",
    "vocab_size = 60000"
   ]
  },
  {
   "cell_type": "markdown",
   "metadata": {},
   "source": [
    "序列化数据"
   ]
  },
  {
   "cell_type": "code",
   "execution_count": 9,
   "metadata": {},
   "outputs": [
    {
     "name": "stdout",
     "output_type": "stream",
     "text": [
      "(50000, 120)\n"
     ]
    }
   ],
   "source": [
    "tokenizer = tf.keras.preprocessing.text.Tokenizer(num_words=vocab_size)\n",
    "tokenizer.fit_on_texts(processed_text)\n",
    "\n",
    "processed_text_vector = tokenizer.texts_to_sequences(processed_text)\n",
    "padded_text_vector = tf.keras.preprocessing.sequence.pad_sequences(processed_text_vector,maxlen=max_length, \n",
    "                                                                   truncating='post', padding='post')\n",
    "print(padded_text_vector.shape)"
   ]
  },
  {
   "cell_type": "markdown",
   "metadata": {},
   "source": [
    "划分训练集与测试集"
   ]
  },
  {
   "cell_type": "code",
   "execution_count": 10,
   "metadata": {},
   "outputs": [
    {
     "name": "stdout",
     "output_type": "stream",
     "text": [
      "35000 15000 35000 15000\n"
     ]
    }
   ],
   "source": [
    "train_text, test_text, train_sentiment, test_sentiment = train_test_split(padded_text_vector, sentiment,\n",
    "                                                                          test_size = 0.3,\n",
    "                                                                          random_state=1)\n",
    "print(len(train_text), len(test_text), len(train_sentiment), len(test_sentiment))"
   ]
  },
  {
   "cell_type": "markdown",
   "metadata": {},
   "source": [
    "划分训练集与验证集"
   ]
  },
  {
   "cell_type": "code",
   "execution_count": 11,
   "metadata": {},
   "outputs": [
    {
     "name": "stdout",
     "output_type": "stream",
     "text": [
      "28000 7000 28000 7000\n"
     ]
    }
   ],
   "source": [
    "text_train, text_val, sentiment_train, sentiment_val = train_test_split(train_text,train_sentiment, test_size=0.2,\n",
    "                                                                       random_state=2)\n",
    "print(len(text_train), len(text_val), len(sentiment_train), len(sentiment_val))"
   ]
  },
  {
   "cell_type": "markdown",
   "metadata": {},
   "source": [
    "参数设置"
   ]
  },
  {
   "cell_type": "code",
   "execution_count": 12,
   "metadata": {},
   "outputs": [],
   "source": [
    "BATCH_SIZE = 128\n",
    "EMBEDDING_SIZE = 128\n",
    "EPOCHS = 10\n",
    "learning_rate = 0.0001\n",
    "kernel_l2 = 0.001\n",
    "recurrent_l2 = 0.000\n",
    "activity_l2 = 0.000"
   ]
  },
  {
   "cell_type": "markdown",
   "metadata": {},
   "source": [
    "构建LSTM模型"
   ]
  },
  {
   "cell_type": "code",
   "execution_count": 16,
   "metadata": {},
   "outputs": [
    {
     "name": "stdout",
     "output_type": "stream",
     "text": [
      "Model: \"sequential_1\"\n",
      "_________________________________________________________________\n",
      "Layer (type)                 Output Shape              Param #   \n",
      "=================================================================\n",
      "embedding_1 (Embedding)      (None, 120, 128)          7680000   \n",
      "_________________________________________________________________\n",
      "bidirectional_1 (Bidirection (None, 120, 256)          790528    \n",
      "_________________________________________________________________\n",
      "flatten (Flatten)            (None, 30720)             0         \n",
      "_________________________________________________________________\n",
      "dense_2 (Dense)              (None, 128)               3932288   \n",
      "_________________________________________________________________\n",
      "dense_3 (Dense)              (None, 1)                 129       \n",
      "=================================================================\n",
      "Total params: 12,402,945\n",
      "Trainable params: 12,402,945\n",
      "Non-trainable params: 0\n",
      "_________________________________________________________________\n"
     ]
    }
   ],
   "source": [
    "model = tf.keras.models.Sequential()\n",
    "model.add(tf.keras.layers.Embedding(input_dim=vocab_size, output_dim=EMBEDDING_SIZE, input_length=max_length))\n",
    "model.add(tf.keras.layers.Bidirectional(tf.keras.layers.CuDNNLSTM(256, kernel_initializer='glorot_uniform', recurrent_initializer='orthogonal', \n",
    "                                    kernel_regularizer=regularizers.l2(kernel_l2),\n",
    "                                    recurrent_regularizer=regularizers.l2(recurrent_l2),\n",
    "                                    activity_regularizer=regularizers.l2(activity_l2),\n",
    "                                    return_sequences=True), merge_mode='ave'))\n",
    "model.add(tf.keras.layers.Flatten())\n",
    "model.add(tf.keras.layers.Dense(128, activation='sigmoid', kernel_regularizer=regularizers.l2(kernel_l2)))\n",
    "model.add(tf.keras.layers.Dense(1, activation='sigmoid', kernel_regularizer=regularizers.l2(kernel_l2)))\n",
    "model.summary()"
   ]
  },
  {
   "cell_type": "code",
   "execution_count": 17,
   "metadata": {},
   "outputs": [],
   "source": [
    "model.compile(optimizer=tf.keras.optimizers.Adam(learning_rate), loss='binary_crossentropy', metrics=['accuracy'])\n",
    "callback = tf.keras.callbacks.EarlyStopping(monitor='val_acc', patience=3, restore_best_weights=True)"
   ]
  },
  {
   "cell_type": "markdown",
   "metadata": {},
   "source": [
    "训练模型"
   ]
  },
  {
   "cell_type": "code",
   "execution_count": 18,
   "metadata": {},
   "outputs": [
    {
     "name": "stdout",
     "output_type": "stream",
     "text": [
      "Train on 28000 samples, validate on 7000 samples\n",
      "Epoch 1/10\n",
      "28000/28000 [==============================] - 15s 527us/sample - loss: 0.9271 - acc: 0.6709 - val_loss: 0.5923 - val_acc: 0.8310\n",
      "Epoch 2/10\n",
      "28000/28000 [==============================] - 7s 242us/sample - loss: 0.4628 - acc: 0.8733 - val_loss: 0.4592 - val_acc: 0.8507\n",
      "Epoch 3/10\n",
      "28000/28000 [==============================] - 7s 239us/sample - loss: 0.3056 - acc: 0.9222 - val_loss: 0.4214 - val_acc: 0.8601\n",
      "Epoch 4/10\n",
      "28000/28000 [==============================] - 7s 240us/sample - loss: 0.2180 - acc: 0.9508 - val_loss: 0.5336 - val_acc: 0.8409\n",
      "Epoch 5/10\n",
      "28000/28000 [==============================] - 7s 240us/sample - loss: 0.1588 - acc: 0.9708 - val_loss: 0.4993 - val_acc: 0.8504\n",
      "Epoch 6/10\n",
      "28000/28000 [==============================] - 7s 246us/sample - loss: 0.1190 - acc: 0.9832 - val_loss: 0.7017 - val_acc: 0.8229\n"
     ]
    },
    {
     "data": {
      "text/plain": [
       "<tensorflow.python.keras.callbacks.History at 0x7f95c2edf0d0>"
      ]
     },
     "execution_count": 18,
     "metadata": {},
     "output_type": "execute_result"
    }
   ],
   "source": [
    "model.fit(x=text_train,y=sentiment_train, batch_size=BATCH_SIZE, epochs=EPOCHS, shuffle=True,\n",
    "          validation_data=[text_val,sentiment_val], callbacks=[callback])"
   ]
  },
  {
   "cell_type": "code",
   "execution_count": 19,
   "metadata": {},
   "outputs": [
    {
     "data": {
      "image/png": "[encoded data removed]",
      "text/plain": [
       "<Figure size 432x288 with 4 Axes>"
      ]
     },
     "metadata": {
      "needs_background": "light"
     },
     "output_type": "display_data"
    }
   ],
   "source": [
    "import matplotlib.pyplot as plt\n",
    "from pylab import *\n",
    "\n",
    "subplots_adjust(left=0.0,bottom=0.0,top=3,right=2)\n",
    "\n",
    "plt.subplot(2, 2, 1)\n",
    "plt.plot(model.history.history['loss'])\n",
    "plt.xlabel('epoch')\n",
    "plt.ylabel('loss')\n",
    "plt.title(\"train loss\")\n",
    "\n",
    "plt.subplot(2, 2, 2)\n",
    "plt.plot(model.history.history['acc'])\n",
    "plt.xlabel('epoch')\n",
    "plt.ylabel('acc')\n",
    "plt.title(\"train accuracy\")\n",
    "\n",
    "plt.subplot(2, 2, 3)\n",
    "plt.plot(model.history.history['val_loss'])\n",
    "plt.xlabel('epoch')\n",
    "plt.ylabel('loss')\n",
    "plt.title(\"validation loss\")\n",
    "\n",
    "plt.subplot(2, 2, 4)\n",
    "plt.plot(model.history.history['val_acc'])\n",
    "plt.xlabel('epoch')\n",
    "plt.ylabel('acc')\n",
    "plt.title(\"validation accuracy\")\n",
    "\n",
    "plt.show()"
   ]
  },
  {
   "cell_type": "markdown",
   "metadata": {},
   "source": [
    "在测试集上评估模型"
   ]
  },
  {
   "cell_type": "code",
   "execution_count": 20,
   "metadata": {},
   "outputs": [
    {
     "name": "stdout",
     "output_type": "stream",
     "text": [
      "15000/15000 [==============================] - 7s 483us/sample - loss: 0.4381 - acc: 0.8528\n"
     ]
    },
    {
     "data": {
      "text/plain": [
       "[0.43807510058085125, 0.8528]"
      ]
     },
     "execution_count": 20,
     "metadata": {},
     "output_type": "execute_result"
    }
   ],
   "source": [
    "model.evaluate(test_text, test_sentiment)"
   ]
  },
  {
   "cell_type": "markdown",
   "metadata": {},
   "source": [
    "模型预测"
   ]
  },
  {
   "cell_type": "code",
   "execution_count": 21,
   "metadata": {},
   "outputs": [
    {
     "name": "stdout",
     "output_type": "stream",
     "text": [
      "[[False]]\n"
     ]
    }
   ],
   "source": [
    "x = '''I admit, the great majority of films released before say 1933 are just not for me. Of the dozen or so \"major\" silents I have viewed, one I loved (The Crowd), and two were very good (The Last Command and City Lights, that latter Chaplin circa 1931).<br /><br />So I was apprehensive about this one, and humor is often difficult to appreciate (uh, enjoy) decades later. I did like the lead actors, but thought little of the film.<br /><br />One intriguing sequence. Early on, the guys are supposed to get \"de-loused\" and for about three minutes, fully dressed, do some schtick. In the background, perhaps three dozen men pass by, all naked, white and black (WWI ?), and for most, their butts, part or full backside, are shown. Was this an early variation of beefcake courtesy of Howard Hughes?'''\n",
    "x = preprocess_text(x)\n",
    "vec = tokenizer.texts_to_sequences([x])\n",
    "pad_vec = tf.keras.preprocessing.sequence.pad_sequences(vec, maxlen=max_length, truncating='post', padding='post')\n",
    "result = model.predict(pad_vec)\n",
    "print(result > 0.5)"
   ]
  }
 ],
 "metadata": {
  "interpreter": {
   "hash": "cd19113c0ce267f95d331de12e62f671b4ae3be9ce70ab9c2c2ed8a73fec64bf"
  },
  "kernelspec": {
   "display_name": "Python 3.7.10 64-bit ('tf1.15': conda)",
   "name": "python3"
  },
  "language_info": {
   "codemirror_mode": {
    "name": "ipython",
    "version": 3
   },
   "file_extension": ".py",
   "mimetype": "text/x-python",
   "name": "python",
   "nbconvert_exporter": "python",
   "pygments_lexer": "ipython3",
   "version": "3.7.10"
  },
  "orig_nbformat": 4
 },
 "nbformat": 4,
 "nbformat_minor": 2
}